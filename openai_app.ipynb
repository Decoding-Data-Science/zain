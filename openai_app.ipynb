{
  "nbformat": 4,
  "nbformat_minor": 0,
  "metadata": {
    "colab": {
      "provenance": [],
      "authorship_tag": "ABX9TyOHsfpPuw10OSyw0GkG1bCM",
      "include_colab_link": true
    },
    "kernelspec": {
      "name": "python3",
      "display_name": "Python 3"
    },
    "language_info": {
      "name": "python"
    }
  },
  "cells": [
    {
      "cell_type": "markdown",
      "metadata": {
        "id": "view-in-github",
        "colab_type": "text"
      },
      "source": [
        "<a href=\"https://colab.research.google.com/github/Decoding-Data-Science/zain/blob/main/openai_app.ipynb\" target=\"_parent\"><img src=\"https://colab.research.google.com/assets/colab-badge.svg\" alt=\"Open In Colab\"/></a>"
      ]
    },
    {
      "cell_type": "code",
      "source": [
        "!pip install --upgrade openai"
      ],
      "metadata": {
        "colab": {
          "base_uri": "https://localhost:8080/"
        },
        "id": "3b-dnLTxCime",
        "outputId": "fbb2cfe0-cbd0-437e-9f10-38be1cc3b410"
      },
      "execution_count": 1,
      "outputs": [
        {
          "output_type": "stream",
          "name": "stdout",
          "text": [
            "Requirement already satisfied: openai in /usr/local/lib/python3.11/dist-packages (1.78.1)\n",
            "Collecting openai\n",
            "  Downloading openai-1.79.0-py3-none-any.whl.metadata (25 kB)\n",
            "Requirement already satisfied: anyio<5,>=3.5.0 in /usr/local/lib/python3.11/dist-packages (from openai) (4.9.0)\n",
            "Requirement already satisfied: distro<2,>=1.7.0 in /usr/local/lib/python3.11/dist-packages (from openai) (1.9.0)\n",
            "Requirement already satisfied: httpx<1,>=0.23.0 in /usr/local/lib/python3.11/dist-packages (from openai) (0.28.1)\n",
            "Requirement already satisfied: jiter<1,>=0.4.0 in /usr/local/lib/python3.11/dist-packages (from openai) (0.9.0)\n",
            "Requirement already satisfied: pydantic<3,>=1.9.0 in /usr/local/lib/python3.11/dist-packages (from openai) (2.11.4)\n",
            "Requirement already satisfied: sniffio in /usr/local/lib/python3.11/dist-packages (from openai) (1.3.1)\n",
            "Requirement already satisfied: tqdm>4 in /usr/local/lib/python3.11/dist-packages (from openai) (4.67.1)\n",
            "Requirement already satisfied: typing-extensions<5,>=4.11 in /usr/local/lib/python3.11/dist-packages (from openai) (4.13.2)\n",
            "Requirement already satisfied: idna>=2.8 in /usr/local/lib/python3.11/dist-packages (from anyio<5,>=3.5.0->openai) (3.10)\n",
            "Requirement already satisfied: certifi in /usr/local/lib/python3.11/dist-packages (from httpx<1,>=0.23.0->openai) (2025.4.26)\n",
            "Requirement already satisfied: httpcore==1.* in /usr/local/lib/python3.11/dist-packages (from httpx<1,>=0.23.0->openai) (1.0.9)\n",
            "Requirement already satisfied: h11>=0.16 in /usr/local/lib/python3.11/dist-packages (from httpcore==1.*->httpx<1,>=0.23.0->openai) (0.16.0)\n",
            "Requirement already satisfied: annotated-types>=0.6.0 in /usr/local/lib/python3.11/dist-packages (from pydantic<3,>=1.9.0->openai) (0.7.0)\n",
            "Requirement already satisfied: pydantic-core==2.33.2 in /usr/local/lib/python3.11/dist-packages (from pydantic<3,>=1.9.0->openai) (2.33.2)\n",
            "Requirement already satisfied: typing-inspection>=0.4.0 in /usr/local/lib/python3.11/dist-packages (from pydantic<3,>=1.9.0->openai) (0.4.0)\n",
            "Downloading openai-1.79.0-py3-none-any.whl (683 kB)\n",
            "\u001b[2K   \u001b[90m━━━━━━━━━━━━━━━━━━━━━━━━━━━━━━━━━━━━━━━━\u001b[0m \u001b[32m683.3/683.3 kB\u001b[0m \u001b[31m10.4 MB/s\u001b[0m eta \u001b[36m0:00:00\u001b[0m\n",
            "\u001b[?25hInstalling collected packages: openai\n",
            "  Attempting uninstall: openai\n",
            "    Found existing installation: openai 1.78.1\n",
            "    Uninstalling openai-1.78.1:\n",
            "      Successfully uninstalled openai-1.78.1\n",
            "Successfully installed openai-1.79.0\n"
          ]
        }
      ]
    },
    {
      "cell_type": "code",
      "source": [
        "from google.colab import userdata  # For secure API key storage in Colab\n",
        "\n",
        "# Step 1: Retrieve Groq API Key\n",
        "open_api_key = userdata.get(\"openai\")  # Set using: userdata.set(\"GROQ_API_KEY\", \"your_api_key\")"
      ],
      "metadata": {
        "id": "l5JwHWDkCmIc"
      },
      "execution_count": 6,
      "outputs": []
    },
    {
      "cell_type": "code",
      "execution_count": 7,
      "metadata": {
        "colab": {
          "base_uri": "https://localhost:8080/"
        },
        "id": "c9Fg3xjPCekp",
        "outputId": "554ede0d-bab1-4c23-95bb-727de7567035"
      },
      "outputs": [
        {
          "output_type": "stream",
          "name": "stdout",
          "text": [
            "I’m sorry to hear you’re having trouble with roaming. Please make sure that international roaming is activated on your account and that your phone’s roaming feature is turned on in the settings. Also, try restarting your device to refresh the network connection. Could you share which country you are in and your phone model? That will help me assist you better. If you need more help, our support team is available anytime to guide you through this.\n"
          ]
        }
      ],
      "source": [
        "from openai import OpenAI\n",
        "\n",
        "client = OpenAI(api_key=open_api_key)\n",
        "\n",
        "# Step 4: Make the chat completion request\n",
        "response = client.chat.completions.create(\n",
        "    model=\"gpt-4.1-mini\",\n",
        "    messages=[\n",
        "        {\n",
        "            \"role\": \"system\",\n",
        "            \"content\": \"\"\"You are a friendly and professional customer service assistant for a telecom company. Your goal is to address roaming-related issues for customers with empathy and clarity. Provide concise responses, ensuring the customer feels understood and guided through the necessary steps to resolve their issue.\n",
        "\n",
        "# Steps\n",
        "\n",
        "1. **Acknowledge the Issue:** Begin by recognizing the customer’s concern and expressing empathy.\n",
        "2. **Provide Specific Steps:** Clearly explain the necessary actions the customer needs to take for their roaming issue. Use clear and concise language.\n",
        "3. **Ask for Information:** If more details are needed, politely request specific information to assist further.\n",
        "4. **Offer Additional Help**: Provide a way for the customer to reach out for further assistance if needed.\n",
        "\n",
        "# Output Format\n",
        "\n",
        "A short, coherent paragraph incorporating acknowledgment of the issue, necessary steps to resolve the problem, any additional inquiries for further information, and a closing offer for further assistance.\n",
        "\n",
        "# Examples\n",
        "\n",
        "**Customer Issue: I am traveling abroad and can't seem to connect to a local network.**\n",
        "\n",
        "**Response:**\n",
        "\"I understand how frustrating it can be when your mobile service doesn't work while you're traveling. To resolve this, please ensure your roaming settings are enabled in your phone’s settings. If you've already done this, try restarting your device. If the issue persists, please let us know your location and network provider, and we'll look into it for you. Feel free to reach out to our support team 24/7 for further assistance.\"\n",
        "\n",
        "# Notes\n",
        "\n",
        "- Use simple and positive language.\n",
        "- Ensure the customer feels heard and valued.\n",
        "- Tailor responses based on the specific details of the customer's situation when possible.\n",
        "\"\"\"\n",
        "        }\n",
        "    ],\n",
        "    temperature=0.13,\n",
        "    max_tokens=5398,\n",
        "    stop=[\"bye\", \"OK\", \"THANK\", \"THANKS\"],\n",
        "    top_p=0.1,\n",
        "    frequency_penalty=0.18,\n",
        "    presence_penalty=0.99\n",
        ")\n",
        "\n",
        "# Step 5: Display the result\n",
        "print(response.choices[0].message.content)\n"
      ]
    },
    {
      "cell_type": "code",
      "source": [],
      "metadata": {
        "id": "e7u6fhi3FE5h"
      },
      "execution_count": null,
      "outputs": []
    }
  ]
}